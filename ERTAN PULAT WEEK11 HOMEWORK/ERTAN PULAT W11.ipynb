{
 "cells": [
  {
   "cell_type": "markdown",
   "metadata": {},
   "source": [
    "Week11---Database\n",
    "(M:Manuel olarak, K:SQL komutlarıyla, C:Python kodlariyla)\n"
   ]
  },
  {
   "cell_type": "markdown",
   "metadata": {},
   "source": [
    "2.Ayni veri tabanı yine olusturun (K)\n",
    "create database class4"
   ]
  },
  {
   "cell_type": "markdown",
   "metadata": {},
   "source": [
    "3.Tablolar arasindaki en az 5 iliskiyi yazin\n",
    "1.actor \t:ad ve soyadı dahil olmak üzere aktör verilerini depolar.\n",
    "2.film  \t:başlık, yayın yılı, uzunluk, derecelendirme vb. gibi film verilerini depolar.\n",
    "3.film_actor \t:film ve actor arasındaki ilişkileri saklar.\n",
    "4.category \t:filmin kategori verilerini saklar.\n",
    "5.film_category\t:filmler ve kategoriler arasındaki ilişkileri saklar.\n",
    "6.srote\t\t:yönetici personeli ve adres dahil olmak üzere mağaza verilerini içerir.\n",
    "7.address\t:personel,müşteriler ve mağaza için adres verilerini saklar."
   ]
  },
  {
   "cell_type": "markdown",
   "metadata": {},
   "source": [
    "5.ER modeldeki tablolardan 3 tanesini K olusturun.\n",
    "create table city\n",
    "(city_id integer primary key not null,\n",
    " city VARCHAR(15) NOT null\n",
    ")\n",
    "create table country\n",
    "(country_id integer primary key not null,\n",
    " country VARCHAR(15) NOT null\n",
    ")\n",
    "CREATE TABLE customer\n",
    "(customer_id integer primary key not null,\n",
    " store_id VARCHAR(15) NOT null\n",
    ")\n"
   ]
  },
  {
   "cell_type": "markdown",
   "metadata": {},
   "source": [
    "6.ER modeldeki tablolardan 3 tanesini C olusturun.\n",
    "import psycopg2\n",
    "conn = psycopg2.connect (\"dbname=dbclass4 user=postgres password=Ertan3452\")\n",
    "cur = conn.cursor()\n",
    "comand = '''CREATE TABLE film(\n",
    "    film_id integer primary key,\n",
    "    title varchar(15) NOT NULL\n",
    ")\n",
    "'''\n",
    "cur.execute(comand)     #cursor\n",
    "cur.close()             #close\n",
    "conn.commit()           #confirmation\n",
    "conn.close()            #close\n",
    "\n",
    "import psycopg2\n",
    "conn = psycopg2.connect (\"dbname=dbclass4 user=postgres password=Ertan3452\")\n",
    "cur = conn.cursor()\n",
    "comand = '''CREATE TABLE film_actor(\n",
    "    actor_id integer primary key,\n",
    "    film_id varchar(15) NOT NULL\n",
    ")\n",
    "'''\n",
    "cur.execute(comand)     #cursor\n",
    "cur.close()             #close\n",
    "conn.commit()           #confirmation\n",
    "conn.close()            #close\n",
    "import psycopg2\n",
    "conn = psycopg2.connect (\"dbname=dbclass4 user=postgres password=Ertan3452\")\n",
    "cur = conn.cursor()\n",
    "comand = '''CREATE TABLE film_category(\n",
    "    film_id integer primary key,\n",
    "    category_id varchar(15) NOT NULL\n",
    ")\n",
    "'''\n",
    "cur.execute(comand)     #cursor\n",
    "cur.close()             #close\n",
    "conn.commit()           #confirmation\n",
    "conn.close()            #close\n"
   ]
  },
  {
   "cell_type": "markdown",
   "metadata": {},
   "source": [
    "8.Olusturdugunuz 3 tabloya K ile 5 veri girisi yapin.\n",
    "insert into city(city_id,city) values (1,'Istanbul')\n",
    "insert into city(city_id,city) values (2,'Willebroek')\n",
    "insert into country(country_id,country) values (2,'Turkıye')\n",
    "insert into country(country_id,country) values (2,'Belgium')\n",
    "insert into customer(customer_id,store_id) values(1,1)\n",
    "insert into customer(customer_id,store_id) values(2,2)"
   ]
  },
  {
   "cell_type": "markdown",
   "metadata": {},
   "source": [
    "9-Olusturdugunuz 3 tabloya C ile 5 veri girisi yapin.\n",
    "\n",
    "cur.execute('INSERT INTO film VALUES(%s,%s)',(1,'1'))\n",
    "cur.close()\n",
    "conn.commit\n",
    "conn.close()\n",
    "\n",
    "cur.execute('INSERT INTO film_actor VALUES(%s,%s)',(1,'1'))\n",
    "cur.close()\n",
    "conn.commit\n",
    "conn.close() \n",
    "\n",
    "cur.execute('INSERT INTO film_category VALUES(%s,%s)',(1,'1'))\n",
    "cur.close()\n",
    "conn.commit\n",
    "conn.close()\n"
   ]
  },
  {
   "cell_type": "markdown",
   "metadata": {},
   "source": [
    "11- 3 tablodaki birer veriyi K ile degistirin.\n",
    "UPDATE cıty set city='Ordu' WHERE city_id=1\n",
    "UPDATE film set title='Tosun Paşa' where film_id=2\n",
    "UPDATE country set country='Greece' WHERE country_id=2\n"
   ]
  },
  {
   "cell_type": "markdown",
   "metadata": {},
   "source": [
    "12- 3 tablodaki birer veriyi C ile degistirin.\n",
    "import psycopg2\n",
    "conn = psycopg2.connect (\"dbname=dbclass4 user=postgres password=Ertan3452\")\n",
    "cur = conn.cursor()\n",
    "\n",
    "\n",
    "cur.execute('UPDATE film SET title=%s WHERE film_id=%s',('Esaretin Bedeli',1))\n",
    "cur.close()\n",
    "conn.commit\n",
    "conn.close()\n",
    "\n",
    "###########################################################\n",
    "\n",
    "import psycopg2\n",
    "conn = psycopg2.connect (\"dbname=dbclass4 user=postgres password=Ertan3452\")\n",
    "cur = conn.cursor()\n",
    "\n",
    "\n",
    "cur.execute('UPDATE cıty SET city=%s WHERE city_id=%s',('Brussel',2))\n",
    "cur.close()\n",
    "conn.commit\n",
    "conn.close()\n",
    "\n",
    "###########################################################\n",
    "import psycopg2\n",
    "conn = psycopg2.connect (\"dbname=dbclass4 user=postgres password=Ertan3452\")\n",
    "cur = conn.cursor()\n",
    "\n",
    "\n",
    "cur.execute('UPDATE country SET country=%s WHERE country_id=%s',('Belgium',1))\n",
    "cur.close()\n",
    "conn.commit\n",
    "conn.close()\n",
    "\n"
   ]
  },
  {
   "cell_type": "markdown",
   "metadata": {},
   "source": [
    "13.3 tablonun son satirini M ile silinmiş.\n",
    "silindi."
   ]
  },
  {
   "cell_type": "markdown",
   "metadata": {},
   "source": [
    "14.3 tablonun son satirini K ile silinmiş.\n",
    "DELETE FROM actor WHERE actor_id=(SELECT actor_id FROM actor order by actor_id DESC LIMIT 1), \n",
    "DELETE FROM film WHERE film_id=(SELECT film_id FROM film ORDER BY film_id DESC LIMIT 1)\n",
    "DELETE FROM country WHERE countryy_id=(SELECT countryy_id FROM country order by country_id DESC LIMIT 1)"
   ]
  },
  {
   "cell_type": "markdown",
   "metadata": {},
   "source": [
    "15.3 tablonun son satirini C ile silinmiş\n",
    "\n",
    "conn = psycopg2.connect (\"dbname=dbclass4 user=postgres password=Ertan3452\")\n",
    "cur = conn.cursor()\n",
    "\n",
    "\n",
    "cur.execute('''DELETE FROM cıty WHERE city_id =(SELECT city_id FROM cıty ORDER BY city_id DESC LIMIT 1)''')\n",
    "cur.close()\n",
    "conn.commit()  ####################\n",
    "conn.close()\n",
    "####################################################\n",
    "\n",
    "conn = psycopg2.connect (\"dbname=dbclass4 user=postgres password=Ertan3452\")\n",
    "cur = conn.cursor()\n",
    "\n",
    "\n",
    "cur.execute('''DELETE FROM address WHERE adress_id =(SELECT address_id FROM address ORDER BY address_id DESC LIMIT 1)''')\n",
    "cur.close()\n",
    "conn.commit()  ####################\n",
    "conn.close()\n",
    "\n",
    "####################################################\n",
    "\n",
    "conn = psycopg2.connect (\"dbname=dbclass4 user=postgres password=Ertan3452\")\n",
    "cur = conn.cursor()\n",
    "\n",
    "\n",
    "cur.execute('''DELETE FROM actor WHERE actor_id =(SELECT actor_id FROM actor ORDER BY actor_id DESC LIMIT 1)''')\n",
    "cur.close()\n",
    "conn.commit()  ####################\n",
    "conn.close()\n",
    "\n"
   ]
  },
  {
   "cell_type": "markdown",
   "metadata": {},
   "source": [
    "16.1 tabloyu M ile silin.\n",
    "SİLİNDİ"
   ]
  },
  {
   "cell_type": "markdown",
   "metadata": {},
   "source": [
    "17- 1 tabloyu K ile silinmiş.\n",
    "DROP TABLE film_actor"
   ]
  },
  {
   "cell_type": "markdown",
   "metadata": {},
   "source": [
    "18- 1 tabloyu C ile silinmiş.\n",
    "conn = psycopg2.connect (\"dbname=dbclass4 user=postgres password=Ertan3452\")\n",
    "cur = conn.cursor()\n",
    "\n",
    "\n",
    "cur.execute('''DROP TABLE customer''')  ############     3 lü diyez   \n",
    "cur.close()\n",
    "conn.commit()   #######                                    parantez\n",
    "conn.close()\n",
    "\n",
    "########################################################\n",
    "\n",
    "\n"
   ]
  },
  {
   "cell_type": "markdown",
   "metadata": {},
   "source": [
    "19- Kalan tablolardan 1 tanesinin 2 veya 3 sutununu K ile baska bir tablo olarak olusturun.\n",
    "CREATE table category_ AS SELECT city_id,city FROM cıty\n",
    "    "
   ]
  },
  {
   "cell_type": "markdown",
   "metadata": {},
   "source": [
    "20.Kalan tablolardan 1 tanesinin 2 veya 3 sutununu C ile baska bir tablo olarak olusturun.\n",
    "\n",
    "conn = psycopg2.connect (\"dbname=dbclass4 user=postgres password=Ertan3452\")\n",
    "cur = conn.cursor()\n",
    "\n",
    "\n",
    "cur.execute('''CREATE TABLE adress_ AS SELECT city_id,city FROM cıty''')\n",
    "cur.close()\n",
    "conn.commit()  ####################\n",
    "conn.close()"
   ]
  },
  {
   "cell_type": "markdown",
   "metadata": {},
   "source": [
    "21.Tablolardan 1 tanesini M ile truncate edin.\n",
    ":)"
   ]
  },
  {
   "cell_type": "markdown",
   "metadata": {},
   "source": [
    "22.Tablolardan 1 tanesini K ile truncate edin\n",
    "TRUNCATE TABLE adress_"
   ]
  },
  {
   "cell_type": "markdown",
   "metadata": {},
   "source": [
    "23.Tablolardan 1 tanesini C ile truncate edin.\n",
    "from click import command\n",
    "import psycopg2\n",
    "conn = psycopg2.connect (\"dbname=dbclass4 user=postgres password=Ertan3452\")\n",
    "cur = conn.cursor()\n",
    "\n",
    "\n",
    "cur.execute('''TRUNCATE TABLE address''')\n",
    "cur.close()\n",
    "conn.commit()  ####################\n",
    "conn.close()"
   ]
  },
  {
   "cell_type": "markdown",
   "metadata": {},
   "source": [
    "24.Truncate edilmis tablolari M ile silin.\n",
    ":)"
   ]
  },
  {
   "cell_type": "markdown",
   "metadata": {},
   "source": [
    "25.2 tabloyu K ile silindi.\n",
    "DROP TABLE country\n",
    "DROP TABLE actor"
   ]
  },
  {
   "cell_type": "markdown",
   "metadata": {},
   "source": [
    "26.2 tabloyu C  silin.\n",
    "\n",
    "conn = psycopg2.connect (\"dbname=dbclass4 user=postgres password=Ertan3452\")\n",
    "cur = conn.cursor()\n",
    "\n",
    "\n",
    "cur.execute('''DROP TABLE cıty''')\n",
    "cur.close()\n",
    "conn.commit()  ####################\n",
    "conn.close()\n",
    "##########################\n",
    "from click import command\n",
    "import psycopg2\n",
    "conn = psycopg2.connect (\"dbname=dbclass4 user=postgres password=Ertan3452\")\n",
    "cur = conn.cursor()\n",
    "\n",
    "\n",
    "cur.execute('''DROP TABLE category''')\n",
    "cur.close()\n",
    "conn.commit()  ####################\n",
    "conn.close()"
   ]
  },
  {
   "cell_type": "markdown",
   "metadata": {},
   "source": [
    "28.Elimizde veri olan 1 tablo kalmis olmasi lazim. Tabloyu csv olarak bilgisayarınızı yukleyin.\n"
   ]
  },
  {
   "cell_type": "markdown",
   "metadata": {},
   "source": [
    "29.Postgresql arayuzundeki son tabloyu da K ile silin.\n"
   ]
  },
  {
   "cell_type": "markdown",
   "metadata": {},
   "source": [
    "30- Import ettiginiz bu tabloyu C ile silin.\n"
   ]
  },
  {
   "cell_type": "markdown",
   "metadata": {},
   "source": [
    "31.https://www.postgresqltutorial.com/postgresql-sample-database/ linkindeki ornek DB yi bilgisayariniza indirin ve arayuze yukleyin.\n",
    "\n",
    ":)"
   ]
  },
  {
   "cell_type": "markdown",
   "metadata": {},
   "source": [
    "32.DB nizde 15 adet tablo olmasi lazim. Her tabloyu teker teker goruntuleyin ve kolon isimlerine bakarak, 5 tabloda hangi kolonun PK ve FK oldugunu yazin.\n",
    "Sorgular? (Asagidaki sorularin cevaplarini ve bu cevabi bulurken kullandiginiz kodlari yazin)\n",
    "table = store , store_id=pk, adress_id,manager_staff_id=fk\n",
    "table = staff , staff_id=pk, staff_adress_id,payment_staff_id,rental_staff_id=fk\n",
    "table = rental ,rental_id=pk, invontory_id,customer_id,rental_staff_id,paymet_rental_id=fk\n",
    "table = payment ,payment_id=pk, payment_customer_id,payment_rental_id,paymet_rental_id=fk\n",
    "table = customer customer_id=pk, customer_adress_id,payment_customer_id,rental_customer_id=fk             \n",
    "                    \n",
    "                                                 '''DEPENDENTS '''"
   ]
  },
  {
   "cell_type": "markdown",
   "metadata": {},
   "source": [
    "33.Action filmlerinin ortalama suresi ne kadar?\n",
    "--select avg(length) from film where .............."
   ]
  },
  {
   "cell_type": "markdown",
   "metadata": {},
   "source": [
    "34- En cok staff olan store hangisidir?\n",
    "select count(staff_id) from staff"
   ]
  },
  {
   "cell_type": "markdown",
   "metadata": {},
   "source": [
    "35- 'Gene Willis' adli actorun oynadigi filmlerin ratingi nedir?\n",
    "select rating from film  WHERE IN actor=(select actor_id from actor where first_name='Gene')  ???"
   ]
  },
  {
   "cell_type": "markdown",
   "metadata": {},
   "source": [
    "36- Aktif customer sayisi nedir?\n",
    "select count(*) from customer where active=1"
   ]
  },
  {
   "cell_type": "markdown",
   "metadata": {},
   "source": [
    "37- 'C' harfiyle baslayan filmler hangileridir?\n",
    "select * from film where title like'C%'"
   ]
  },
  {
   "cell_type": "markdown",
   "metadata": {},
   "source": [
    "38- 4$ den az odeme yapan musterilerin e-mail edresleri nedir?\n",
    "select email from customer where customer_id IN(SELECT customer_id from payment where amount<4 )"
   ]
  },
  {
   "cell_type": "markdown",
   "metadata": {},
   "source": [
    "39- Moscow'da ikamet eden staff ve customer tablosu? (sadece isim/soyisim sutunu olsun)\n",
    "\n",
    "select first_name,last_name from customer where customer_id IN(SELECT city_id from city where city='Moscow' )"
   ]
  },
  {
   "cell_type": "markdown",
   "metadata": {},
   "source": [
    "40- En az kiralanan 5 film hangisidir?\n",
    "select min(title) from film where rental_id IN(SELECT rental_id from rental) group by LIMIT 5  ?????"
   ]
  },
  {
   "cell_type": "markdown",
   "metadata": {},
   "source": [
    "41- 2006 yilinda yayinlanan ingilizce filmler hangileridir?\n",
    "SELECT title from film where release_year=2006  "
   ]
  }
 ],
 "metadata": {
  "language_info": {
   "name": "python"
  },
  "orig_nbformat": 4
 },
 "nbformat": 4,
 "nbformat_minor": 2
}
